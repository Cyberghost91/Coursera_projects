{
 "cells": [
  {
   "cell_type": "markdown",
   "id": "1f8b6bc4-733c-4ae1-92f9-6fb1e00f1aa0",
   "metadata": {},
   "source": [
    "# Data Science Tools and Ecosystem"
   ]
  },
  {
   "cell_type": "markdown",
   "id": "82350b56-d6b8-47ef-88bd-34b0cf60c129",
   "metadata": {},
   "source": [
    "In this notebook,Tools for Data Science are summarized."
   ]
  },
  {
   "cell_type": "markdown",
   "id": "be3e92b7-d98a-4603-96af-443bcdd932ea",
   "metadata": {},
   "source": [
    "Objectives:\n",
    "\n",
    "List popular languages that Data Scientists use.\n",
    "List commonly used libraries used by Data Scientists.\n",
    "Comment on Data Science tools."
   ]
  },
  {
   "cell_type": "markdown",
   "id": "1ba27c9c-afa9-4b6e-b9e6-6b7acf46af77",
   "metadata": {},
   "source": [
    "Some of the popular languages that Data Scientists use are:\n",
    "\n",
    "Python\n",
    "R\n",
    "SQL\n",
    "Java\n",
    "Julia\n",
    "Scala\n",
    "C/C++\n",
    "JavaScript"
   ]
  },
  {
   "cell_type": "markdown",
   "id": "dcd35033-d7e2-428f-bda1-47f9906b3005",
   "metadata": {},
   "source": [
    "Some of the commonly used libraries used by Data Scientists include:\n",
    "\n",
    "TensorFlow.\n",
    "NumPy.\n",
    "SciPy.\n",
    "Pandas.\n",
    "Matplotlib.\n",
    "Keras.\n",
    "SciKit-Learn.\n",
    "PyTorch.\n",
    "Scrapy.\n",
    "BeautifulSoup.\n",
    "LightGBM.\n",
    "ELI5.\n",
    "Theano.\n",
    "NuPIC.\n",
    "Ramp.\n",
    "Pipenv.\n",
    "Bob.\n",
    "PyBrain.\n",
    "Caffe2.\n",
    "Chainer."
   ]
  },
  {
   "cell_type": "markdown",
   "id": "1b69394c-069f-4a4f-aade-99586af79a78",
   "metadata": {},
   "source": [
    "Data Science Tools:\n",
    "\n",
    "Data Science Tools\n",
    "SAS. It is one of those data science tools which are specifically designed for statistical operation\n",
    "Apache Spark\n",
    "BigML"
   ]
  },
  {
   "cell_type": "raw",
   "id": "566d2748-f6ce-45eb-8302-2eb01243d3e9",
   "metadata": {},
   "source": [
    "Below are a few examples of evaluating arithmetic expressions in Python"
   ]
  },
  {
   "cell_type": "raw",
   "id": "55f16a22-5895-44be-896b-cd6f728bf2ce",
   "metadata": {},
   "source": [
    "This a simple arithmetic expression to mutiply then add integers"
   ]
  },
  {
   "cell_type": "code",
   "execution_count": 1,
   "id": "b7924085-fb88-4f57-be14-e5cc5fb044bf",
   "metadata": {
    "tags": []
   },
   "outputs": [
    {
     "data": {
      "text/plain": [
       "17"
      ]
     },
     "execution_count": 1,
     "metadata": {},
     "output_type": "execute_result"
    }
   ],
   "source": [
    "code = compile(\"(3*4)+5\", \"<string>\", \"eval\")\n",
    "eval(code)"
   ]
  },
  {
   "cell_type": "raw",
   "id": "1c74c00d-b7a8-4997-8762-966a122ea4b4",
   "metadata": {},
   "source": [
    "This will convert 200 minutes to hours by diving by 60"
   ]
  },
  {
   "cell_type": "code",
   "execution_count": 3,
   "id": "4d15de26-e669-48fd-b44b-c6944a31ad9f",
   "metadata": {
    "tags": []
   },
   "outputs": [
    {
     "name": "stdout",
     "output_type": "stream",
     "text": [
      "3:20 Hours\n"
     ]
    }
   ],
   "source": [
    "# Given minutes\n",
    "total_minutes = 200\n",
    "\n",
    "# Get hours with floor division\n",
    "hours = total_minutes // 60\n",
    "\n",
    "# Get additional minutes with modulus\n",
    "minutes = total_minutes % 60\n",
    "\n",
    "# Create time as a string (hours:minutes)\n",
    "time = f\"{hours}:{minutes:02}\"  # The :02 ensures that minutes are displayed with leading zeros if needed\n",
    "\n",
    "print(time, \"Hours\")\n"
   ]
  },
  {
   "cell_type": "markdown",
   "id": "0040aacc-46ea-4cd0-b4eb-e0c89611dd5c",
   "metadata": {},
   "source": [
    "Objectives:\n",
    "\n",
    "List popular languages that Data Scientists use.\n",
    "List commonly used libraries used by Data Scientists.\n",
    "Comment on Data Science tools.\n",
    "to gain knowledge and insights from all kinds of data, structured or unstructured.\n",
    " analyzing data, creating aesthetic and interactive visualizations and creating powerful predictive models using machine learning algorithms"
   ]
  },
  {
   "cell_type": "markdown",
   "id": "ae5763c0-193a-424f-b3b0-4d39010dc53a",
   "metadata": {},
   "source": [
    "Author:\n",
    "Kumud Prajapati"
   ]
  }
 ],
 "metadata": {
  "kernelspec": {
   "display_name": "Python 3 (ipykernel)",
   "language": "python",
   "name": "python3"
  },
  "language_info": {
   "codemirror_mode": {
    "name": "ipython",
    "version": 3
   },
   "file_extension": ".py",
   "mimetype": "text/x-python",
   "name": "python",
   "nbconvert_exporter": "python",
   "pygments_lexer": "ipython3",
   "version": "3.11.7"
  }
 },
 "nbformat": 4,
 "nbformat_minor": 5
}
